{
 "cells": [
  {
   "cell_type": "code",
   "execution_count": 2,
   "metadata": {},
   "outputs": [],
   "source": [
    "import numpy as np\n",
    "import cv2\n",
    "import pandas as pd\n"
   ]
  },
  {
   "cell_type": "code",
   "execution_count": 11,
   "metadata": {},
   "outputs": [
    {
     "data": {
      "text/plain": [
       "Index(['left_eye_center_x', 'left_eye_center_y', 'right_eye_center_x',\n",
       "       'right_eye_center_y', 'left_eye_inner_corner_x',\n",
       "       'left_eye_inner_corner_y', 'left_eye_outer_corner_x',\n",
       "       'left_eye_outer_corner_y', 'right_eye_inner_corner_x',\n",
       "       'right_eye_inner_corner_y', 'right_eye_outer_corner_x',\n",
       "       'right_eye_outer_corner_y', 'left_eyebrow_inner_end_x',\n",
       "       'left_eyebrow_inner_end_y', 'left_eyebrow_outer_end_x',\n",
       "       'left_eyebrow_outer_end_y', 'right_eyebrow_inner_end_x',\n",
       "       'right_eyebrow_inner_end_y', 'right_eyebrow_outer_end_x',\n",
       "       'right_eyebrow_outer_end_y', 'nose_tip_x', 'nose_tip_y',\n",
       "       'mouth_left_corner_x', 'mouth_left_corner_y', 'mouth_right_corner_x',\n",
       "       'mouth_right_corner_y', 'mouth_center_top_lip_x',\n",
       "       'mouth_center_top_lip_y', 'mouth_center_bottom_lip_x',\n",
       "       'mouth_center_bottom_lip_y', 'Image'],\n",
       "      dtype='object')"
      ]
     },
     "execution_count": 11,
     "metadata": {},
     "output_type": "execute_result"
    }
   ],
   "source": [
    "data = pd.read_csv(\"../../data/raw/training.csv\")\n",
    "data.columns"
   ]
  },
  {
   "cell_type": "code",
   "execution_count": 23,
   "metadata": {},
   "outputs": [
    {
     "data": {
      "text/plain": [
       "array([[238, 236, 237, ..., 250, 250, 250],\n",
       "       [235, 238, 236, ..., 249, 250, 251],\n",
       "       [237, 236, 237, ..., 251, 251, 250],\n",
       "       ...,\n",
       "       [186, 183, 181, ...,  52,  57,  60],\n",
       "       [189, 188, 207, ...,  61,  69,  78],\n",
       "       [191, 184, 184, ...,  70,  75,  90]])"
      ]
     },
     "execution_count": 23,
     "metadata": {},
     "output_type": "execute_result"
    }
   ],
   "source": [
    "image = np.array(list(map(int, data[\"Image\"][0].split(\" \"))))\n",
    "image = image.reshape(96, 96)\n",
    "cv2.imwrite(\"image.png\", image)\n",
    "image"
   ]
  },
  {
   "cell_type": "code",
   "execution_count": 24,
   "metadata": {},
   "outputs": [
    {
     "data": {
      "text/plain": [
       "{'left_eye_center': (66, 39),\n",
       " 'right_eye_center': (30, 36),\n",
       " 'left_eye_inner_corner': (59, 39),\n",
       " 'left_eye_outer_corner': (73, 39),\n",
       " 'right_eye_inner_corner': (36, 37),\n",
       " 'right_eye_outer_corner': (23, 37),\n",
       " 'left_eyebrow_inner_end': (56, 29),\n",
       " 'left_eyebrow_outer_end': (80, 32),\n",
       " 'right_eyebrow_inner_end': (40, 29),\n",
       " 'right_eyebrow_outer_end': (16, 29),\n",
       " 'nose_tip': (44, 57),\n",
       " 'mouth_left_corner': (61, 79),\n",
       " 'mouth_right_corner': (28, 77),\n",
       " 'mouth_center_top_lip': (43, 72),\n",
       " 'mouth_center_bottom_lip': (43, 84)}"
      ]
     },
     "execution_count": 24,
     "metadata": {},
     "output_type": "execute_result"
    }
   ],
   "source": [
    "points = {\n",
    "    \"left_eye_center\": (),\n",
    "    \"right_eye_center\": (),\n",
    "    \"left_eye_inner_corner\": (),\n",
    "    \"left_eye_outer_corner\": (),\n",
    "    \"right_eye_inner_corner\": (),\n",
    "    \"right_eye_outer_corner\": (),\n",
    "    \"left_eyebrow_inner_end\": (),\n",
    "    \"left_eyebrow_outer_end\": (),\n",
    "    \"right_eyebrow_inner_end\": (),\n",
    "    \"right_eyebrow_outer_end\": (),\n",
    "    \"nose_tip\": (),\n",
    "    \"mouth_left_corner\": (),\n",
    "    \"mouth_right_corner\": (),\n",
    "    \"mouth_center_top_lip\": (),\n",
    "    \"mouth_center_bottom_lip\": ()\n",
    "}\n",
    "\n",
    "for key in points:\n",
    "    points[key] = (int(data[key + \"_x\"][0]), int(data[key + \"_y\"][0]))\n",
    "points"
   ]
  },
  {
   "cell_type": "code",
   "execution_count": 35,
   "metadata": {},
   "outputs": [
    {
     "data": {
      "text/plain": [
       "True"
      ]
     },
     "execution_count": 35,
     "metadata": {},
     "output_type": "execute_result"
    }
   ],
   "source": [
    "image = cv2.imread(\"image.png\")\n",
    "for point in points.values():\n",
    "    image = cv2.circle(image, point, 1, (255, 0, 0), 2)\n",
    "cv2.imwrite(\"image_points.png\", image)"
   ]
  },
  {
   "cell_type": "code",
   "execution_count": null,
   "metadata": {},
   "outputs": [],
   "source": []
  }
 ],
 "metadata": {
  "kernelspec": {
   "display_name": "Python 3.8.10 ('venv': venv)",
   "language": "python",
   "name": "python3"
  },
  "language_info": {
   "codemirror_mode": {
    "name": "ipython",
    "version": 3
   },
   "file_extension": ".py",
   "mimetype": "text/x-python",
   "name": "python",
   "nbconvert_exporter": "python",
   "pygments_lexer": "ipython3",
   "version": "3.8.10"
  },
  "orig_nbformat": 4,
  "vscode": {
   "interpreter": {
    "hash": "6dbe6877d5ec30e6af1e1055811c2ac5b743fb92f98193534da0acfda60dc502"
   }
  }
 },
 "nbformat": 4,
 "nbformat_minor": 2
}
