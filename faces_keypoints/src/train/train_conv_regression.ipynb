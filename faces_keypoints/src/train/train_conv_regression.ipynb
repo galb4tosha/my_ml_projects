{
 "cells": [
  {
   "cell_type": "code",
   "execution_count": 28,
   "metadata": {},
   "outputs": [],
   "source": [
    "from keras import Model, Input\n",
    "from keras.layers import Dense, Conv2D, MaxPooling2D, Flatten\n",
    "from keras.callbacks import ModelCheckpoint\n",
    "\n",
    "import pandas as pd\n",
    "import numpy as np\n"
   ]
  },
  {
   "cell_type": "code",
   "execution_count": 2,
   "metadata": {},
   "outputs": [],
   "source": [
    "DATASET_PATH = \"../../data/raw/training.csv\"\n",
    "IMGS_SIZE = (96, 96)"
   ]
  },
  {
   "cell_type": "code",
   "execution_count": 18,
   "metadata": {},
   "outputs": [
    {
     "name": "stdout",
     "output_type": "stream",
     "text": [
      "before drop na 7049\n",
      "after drop na 2140\n"
     ]
    }
   ],
   "source": [
    "data = pd.read_csv(DATASET_PATH)\n",
    "print(\"before drop na\", len(data.index))\n",
    "data = data.dropna()\n",
    "print(\"after drop na\", len(data.index))"
   ]
  },
  {
   "cell_type": "code",
   "execution_count": 24,
   "metadata": {},
   "outputs": [],
   "source": [
    "data[\"Image\"] = data[\"Image\"].apply(lambda x: list(map(lambda x: int(x)/255.0, list(x.split(\" \")))))"
   ]
  },
  {
   "cell_type": "code",
   "execution_count": 25,
   "metadata": {},
   "outputs": [
    {
     "data": {
      "text/plain": [
       "(1712, 428)"
      ]
     },
     "execution_count": 25,
     "metadata": {},
     "output_type": "execute_result"
    }
   ],
   "source": [
    "train_dataset = data.sample(frac=0.8, random_state=0)\n",
    "test_dataset = data.drop(train_dataset.index)\n",
    "len(train_dataset.index), len(test_dataset.index)"
   ]
  },
  {
   "cell_type": "code",
   "execution_count": 27,
   "metadata": {},
   "outputs": [],
   "source": [
    "x_train = train_dataset[\"Image\"]\n",
    "y_train = train_dataset.drop(columns=[\"Image\"])\n",
    "x_test = test_dataset[\"Image\"]\n",
    "y_test = test_dataset.drop(columns=[\"Image\"])"
   ]
  },
  {
   "cell_type": "markdown",
   "metadata": {},
   "source": [
    "Для начала сделаем регрессию одной точки"
   ]
  },
  {
   "cell_type": "code",
   "execution_count": null,
   "metadata": {},
   "outputs": [],
   "source": [
    "input = Input(shape=(32, 32, 3))"
   ]
  }
 ],
 "metadata": {
  "kernelspec": {
   "display_name": "Python 3.8.10 ('venv': venv)",
   "language": "python",
   "name": "python3"
  },
  "language_info": {
   "codemirror_mode": {
    "name": "ipython",
    "version": 3
   },
   "file_extension": ".py",
   "mimetype": "text/x-python",
   "name": "python",
   "nbconvert_exporter": "python",
   "pygments_lexer": "ipython3",
   "version": "3.8.10"
  },
  "orig_nbformat": 4,
  "vscode": {
   "interpreter": {
    "hash": "6dbe6877d5ec30e6af1e1055811c2ac5b743fb92f98193534da0acfda60dc502"
   }
  }
 },
 "nbformat": 4,
 "nbformat_minor": 2
}
