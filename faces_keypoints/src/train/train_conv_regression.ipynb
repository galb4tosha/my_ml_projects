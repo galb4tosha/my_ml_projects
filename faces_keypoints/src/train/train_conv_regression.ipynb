{
 "cells": [
  {
   "cell_type": "code",
   "execution_count": 72,
   "metadata": {},
   "outputs": [],
   "source": [
    "from keras import Model, Input\n",
    "from keras.layers import Dense, Conv2D, MaxPooling2D, Flatten\n",
    "from keras.callbacks import ModelCheckpoint\n",
    "from keras.models import load_model\n",
    "\n",
    "import pandas as pd\n",
    "import numpy as np\n",
    "import cv2\n",
    "from sklearn.model_selection import train_test_split\n"
   ]
  },
  {
   "cell_type": "code",
   "execution_count": 58,
   "metadata": {},
   "outputs": [],
   "source": [
    "DATASET_PATH = \"../../data/raw/training.csv\"\n",
    "IMGS_SIZE = (96, 96)"
   ]
  },
  {
   "cell_type": "code",
   "execution_count": 59,
   "metadata": {},
   "outputs": [
    {
     "name": "stdout",
     "output_type": "stream",
     "text": [
      "before drop na 7049\n",
      "after drop na 7049\n"
     ]
    }
   ],
   "source": [
    "data = pd.read_csv(DATASET_PATH)\n",
    "print(\"before drop na\", len(data.index))\n",
    "data = data.fillna(method=\"ffill\")\n",
    "print(\"after drop na\", len(data.index))"
   ]
  },
  {
   "cell_type": "code",
   "execution_count": 60,
   "metadata": {},
   "outputs": [],
   "source": [
    "img_array = np.array([data['Image'][i].split(' ') for i in range(len(data))],dtype='float')\n",
    "img_array = np.array([img.reshape(96,96,1) for img in img_array])"
   ]
  },
  {
   "cell_type": "code",
   "execution_count": 61,
   "metadata": {},
   "outputs": [],
   "source": [
    "keypoints = data.drop([\"Image\"], axis=1).sort_index()"
   ]
  },
  {
   "cell_type": "code",
   "execution_count": 67,
   "metadata": {},
   "outputs": [],
   "source": [
    "X_train, X_test, Y_train, Y_test = train_test_split(img_array, keypoints, test_size=0.2 ,shuffle=True)"
   ]
  },
  {
   "cell_type": "code",
   "execution_count": 77,
   "metadata": {},
   "outputs": [
    {
     "data": {
      "text/plain": [
       "1410"
      ]
     },
     "execution_count": 77,
     "metadata": {},
     "output_type": "execute_result"
    }
   ],
   "source": [
    "len(X_test)"
   ]
  },
  {
   "cell_type": "code",
   "execution_count": 62,
   "metadata": {},
   "outputs": [],
   "source": [
    "EPOCHS = 100\n",
    "BATCH_SIZE = 64"
   ]
  },
  {
   "cell_type": "code",
   "execution_count": 63,
   "metadata": {},
   "outputs": [
    {
     "name": "stdout",
     "output_type": "stream",
     "text": [
      "Model: \"model_3\"\n",
      "_________________________________________________________________\n",
      " Layer (type)                Output Shape              Param #   \n",
      "=================================================================\n",
      " input_4 (InputLayer)        [(None, 96, 96, 1)]       0         \n",
      "                                                                 \n",
      " conv2d_9 (Conv2D)           (None, 94, 94, 32)        320       \n",
      "                                                                 \n",
      " max_pooling2d_6 (MaxPooling  (None, 47, 47, 32)       0         \n",
      " 2D)                                                             \n",
      "                                                                 \n",
      " conv2d_10 (Conv2D)          (None, 45, 45, 16)        4624      \n",
      "                                                                 \n",
      " max_pooling2d_7 (MaxPooling  (None, 22, 22, 16)       0         \n",
      " 2D)                                                             \n",
      "                                                                 \n",
      " conv2d_11 (Conv2D)          (None, 20, 20, 8)         1160      \n",
      "                                                                 \n",
      " flatten_3 (Flatten)         (None, 3200)              0         \n",
      "                                                                 \n",
      " dense_3 (Dense)             (None, 30)                96030     \n",
      "                                                                 \n",
      "=================================================================\n",
      "Total params: 102,134\n",
      "Trainable params: 102,134\n",
      "Non-trainable params: 0\n",
      "_________________________________________________________________\n"
     ]
    }
   ],
   "source": [
    "input = Input(shape=(96, 96, 1))\n",
    "x = Conv2D(32, (3, 3), activation=\"relu\")(input)\n",
    "x = MaxPooling2D()(x)\n",
    "x = Conv2D(16, (3, 3), activation=\"relu\")(x)\n",
    "x = MaxPooling2D()(x)\n",
    "x = Conv2D(8, (3, 3), activation=\"relu\")(x)\n",
    "x = Flatten()(x)\n",
    "output = Dense(30, activation=\"relu\")(x)\n",
    "model = Model(inputs=input, outputs=output)\n",
    "model.summary()"
   ]
  },
  {
   "cell_type": "code",
   "execution_count": 68,
   "metadata": {},
   "outputs": [],
   "source": [
    "model.compile(optimizer=\"adam\", loss=\"mean_absolute_error\")\n",
    "vat_acc_checkpoint = ModelCheckpoint(\n",
    "    \"best_model.h5\", monitor=\"val_loss\", mode=\"min\", save_best_only=True\n",
    ")"
   ]
  },
  {
   "cell_type": "code",
   "execution_count": 70,
   "metadata": {},
   "outputs": [
    {
     "name": "stdout",
     "output_type": "stream",
     "text": [
      "Epoch 1/100\n",
      "89/89 [==============================] - 0s 5ms/step - loss: 0.9143 - val_loss: 1.1762\n",
      "Epoch 2/100\n",
      "89/89 [==============================] - 0s 5ms/step - loss: 0.9072 - val_loss: 1.1920\n",
      "Epoch 3/100\n",
      "89/89 [==============================] - 0s 5ms/step - loss: 0.9127 - val_loss: 1.1436\n",
      "Epoch 4/100\n",
      "89/89 [==============================] - 0s 5ms/step - loss: 0.9019 - val_loss: 1.1738\n",
      "Epoch 5/100\n",
      "89/89 [==============================] - 0s 5ms/step - loss: 0.9071 - val_loss: 1.1626\n",
      "Epoch 6/100\n",
      "89/89 [==============================] - 0s 4ms/step - loss: 0.8977 - val_loss: 1.1557\n",
      "Epoch 7/100\n",
      "89/89 [==============================] - 0s 5ms/step - loss: 0.9216 - val_loss: 1.1226\n",
      "Epoch 8/100\n",
      "89/89 [==============================] - 0s 4ms/step - loss: 0.9009 - val_loss: 1.1371\n",
      "Epoch 9/100\n",
      "89/89 [==============================] - 0s 5ms/step - loss: 0.8919 - val_loss: 1.1834\n",
      "Epoch 10/100\n",
      "89/89 [==============================] - 0s 4ms/step - loss: 0.8968 - val_loss: 1.2089\n",
      "Epoch 11/100\n",
      "89/89 [==============================] - 0s 4ms/step - loss: 0.8838 - val_loss: 1.2047\n",
      "Epoch 12/100\n",
      "89/89 [==============================] - 0s 4ms/step - loss: 0.9054 - val_loss: 1.1550\n",
      "Epoch 13/100\n",
      "89/89 [==============================] - 0s 4ms/step - loss: 0.8833 - val_loss: 1.1509\n",
      "Epoch 14/100\n",
      "89/89 [==============================] - 0s 4ms/step - loss: 0.8910 - val_loss: 1.1422\n",
      "Epoch 15/100\n",
      "89/89 [==============================] - 0s 4ms/step - loss: 0.8849 - val_loss: 1.1752\n",
      "Epoch 16/100\n",
      "89/89 [==============================] - 0s 5ms/step - loss: 0.8872 - val_loss: 1.1250\n",
      "Epoch 17/100\n",
      "89/89 [==============================] - 0s 5ms/step - loss: 0.8815 - val_loss: 1.1332\n",
      "Epoch 18/100\n",
      "89/89 [==============================] - 0s 5ms/step - loss: 0.8881 - val_loss: 1.1805\n",
      "Epoch 19/100\n",
      "89/89 [==============================] - 0s 5ms/step - loss: 0.8875 - val_loss: 1.1763\n",
      "Epoch 20/100\n",
      "89/89 [==============================] - 0s 5ms/step - loss: 0.8923 - val_loss: 1.1313\n",
      "Epoch 21/100\n",
      "89/89 [==============================] - 0s 4ms/step - loss: 0.8748 - val_loss: 1.1987\n",
      "Epoch 22/100\n",
      "89/89 [==============================] - 0s 5ms/step - loss: 0.8925 - val_loss: 1.2588\n",
      "Epoch 23/100\n",
      "89/89 [==============================] - 0s 4ms/step - loss: 0.8918 - val_loss: 1.1845\n",
      "Epoch 24/100\n",
      "89/89 [==============================] - 0s 4ms/step - loss: 0.8767 - val_loss: 1.2261\n",
      "Epoch 25/100\n",
      "89/89 [==============================] - 0s 5ms/step - loss: 0.8828 - val_loss: 1.1115\n",
      "Epoch 26/100\n",
      "89/89 [==============================] - 0s 5ms/step - loss: 0.8558 - val_loss: 1.1939\n",
      "Epoch 27/100\n",
      "89/89 [==============================] - 0s 5ms/step - loss: 0.8710 - val_loss: 1.2108\n",
      "Epoch 28/100\n",
      "89/89 [==============================] - 0s 5ms/step - loss: 0.8721 - val_loss: 1.1213\n",
      "Epoch 29/100\n",
      "89/89 [==============================] - 0s 5ms/step - loss: 0.8621 - val_loss: 1.1795\n",
      "Epoch 30/100\n",
      "89/89 [==============================] - 0s 5ms/step - loss: 0.8718 - val_loss: 1.1826\n",
      "Epoch 31/100\n",
      "89/89 [==============================] - 0s 5ms/step - loss: 0.8564 - val_loss: 1.1739\n",
      "Epoch 32/100\n",
      "89/89 [==============================] - 0s 5ms/step - loss: 0.8711 - val_loss: 1.1625\n",
      "Epoch 33/100\n",
      "89/89 [==============================] - 0s 5ms/step - loss: 0.8539 - val_loss: 1.1451\n",
      "Epoch 34/100\n",
      "89/89 [==============================] - 0s 4ms/step - loss: 0.8486 - val_loss: 1.1877\n",
      "Epoch 35/100\n",
      "89/89 [==============================] - 0s 4ms/step - loss: 0.8508 - val_loss: 1.1164\n",
      "Epoch 36/100\n",
      "89/89 [==============================] - 0s 4ms/step - loss: 0.8520 - val_loss: 1.1546\n",
      "Epoch 37/100\n",
      "89/89 [==============================] - 0s 5ms/step - loss: 0.8528 - val_loss: 1.2294\n",
      "Epoch 38/100\n",
      "89/89 [==============================] - 0s 4ms/step - loss: 0.8509 - val_loss: 1.2009\n",
      "Epoch 39/100\n",
      "89/89 [==============================] - 0s 4ms/step - loss: 0.8509 - val_loss: 1.2353\n",
      "Epoch 40/100\n",
      "89/89 [==============================] - 0s 5ms/step - loss: 0.8546 - val_loss: 1.1746\n",
      "Epoch 41/100\n",
      "89/89 [==============================] - 0s 4ms/step - loss: 0.8606 - val_loss: 1.1499\n",
      "Epoch 42/100\n",
      "89/89 [==============================] - 0s 4ms/step - loss: 0.8458 - val_loss: 1.1953\n",
      "Epoch 43/100\n",
      "89/89 [==============================] - 0s 4ms/step - loss: 0.8396 - val_loss: 1.1448\n",
      "Epoch 44/100\n",
      "89/89 [==============================] - 0s 5ms/step - loss: 0.8424 - val_loss: 1.1266\n",
      "Epoch 45/100\n",
      "89/89 [==============================] - 0s 4ms/step - loss: 0.8478 - val_loss: 1.1691\n",
      "Epoch 46/100\n",
      "89/89 [==============================] - 0s 4ms/step - loss: 0.8488 - val_loss: 1.1716\n",
      "Epoch 47/100\n",
      "89/89 [==============================] - 0s 5ms/step - loss: 0.8410 - val_loss: 1.1290\n",
      "Epoch 48/100\n",
      "89/89 [==============================] - 0s 5ms/step - loss: 0.8536 - val_loss: 1.1829\n",
      "Epoch 49/100\n",
      "89/89 [==============================] - 0s 5ms/step - loss: 0.8349 - val_loss: 1.1531\n",
      "Epoch 50/100\n",
      "89/89 [==============================] - 0s 5ms/step - loss: 0.8368 - val_loss: 1.2196\n",
      "Epoch 51/100\n",
      "89/89 [==============================] - 0s 5ms/step - loss: 0.8354 - val_loss: 1.1690\n",
      "Epoch 52/100\n",
      "89/89 [==============================] - 0s 5ms/step - loss: 0.8318 - val_loss: 1.1904\n",
      "Epoch 53/100\n",
      "89/89 [==============================] - 0s 5ms/step - loss: 0.8398 - val_loss: 1.2237\n",
      "Epoch 54/100\n",
      "89/89 [==============================] - 0s 4ms/step - loss: 0.8297 - val_loss: 1.2029\n",
      "Epoch 55/100\n",
      "89/89 [==============================] - 0s 5ms/step - loss: 0.8435 - val_loss: 1.2352\n",
      "Epoch 56/100\n",
      "89/89 [==============================] - 0s 5ms/step - loss: 0.8318 - val_loss: 1.2465\n",
      "Epoch 57/100\n",
      "89/89 [==============================] - 0s 5ms/step - loss: 0.8364 - val_loss: 1.2264\n",
      "Epoch 58/100\n",
      "89/89 [==============================] - 0s 5ms/step - loss: 0.8382 - val_loss: 1.1397\n",
      "Epoch 59/100\n",
      "89/89 [==============================] - 0s 4ms/step - loss: 0.8303 - val_loss: 1.2434\n",
      "Epoch 60/100\n",
      "89/89 [==============================] - 0s 5ms/step - loss: 0.8324 - val_loss: 1.2589\n",
      "Epoch 61/100\n",
      "89/89 [==============================] - 0s 4ms/step - loss: 0.8132 - val_loss: 1.1624\n",
      "Epoch 62/100\n",
      "89/89 [==============================] - 0s 5ms/step - loss: 0.8240 - val_loss: 1.1822\n",
      "Epoch 63/100\n",
      "89/89 [==============================] - 0s 4ms/step - loss: 0.8145 - val_loss: 1.2380\n",
      "Epoch 64/100\n",
      "89/89 [==============================] - 0s 5ms/step - loss: 0.8211 - val_loss: 1.1931\n",
      "Epoch 65/100\n",
      "89/89 [==============================] - 0s 4ms/step - loss: 0.8220 - val_loss: 1.1675\n",
      "Epoch 66/100\n",
      "89/89 [==============================] - 0s 5ms/step - loss: 0.8112 - val_loss: 1.1418\n",
      "Epoch 67/100\n",
      "89/89 [==============================] - 0s 5ms/step - loss: 0.8123 - val_loss: 1.2036\n",
      "Epoch 68/100\n",
      "89/89 [==============================] - 0s 5ms/step - loss: 0.8187 - val_loss: 1.1655\n",
      "Epoch 69/100\n",
      "89/89 [==============================] - 0s 4ms/step - loss: 0.8273 - val_loss: 1.1866\n",
      "Epoch 70/100\n",
      "89/89 [==============================] - 0s 5ms/step - loss: 0.8118 - val_loss: 1.2062\n",
      "Epoch 71/100\n",
      "89/89 [==============================] - 0s 5ms/step - loss: 0.8114 - val_loss: 1.1870\n",
      "Epoch 72/100\n",
      "89/89 [==============================] - 0s 5ms/step - loss: 0.8113 - val_loss: 1.1893\n",
      "Epoch 73/100\n",
      "89/89 [==============================] - 0s 5ms/step - loss: 0.8057 - val_loss: 1.2330\n",
      "Epoch 74/100\n",
      "89/89 [==============================] - 0s 4ms/step - loss: 0.8052 - val_loss: 1.2394\n",
      "Epoch 75/100\n",
      "89/89 [==============================] - 0s 5ms/step - loss: 0.8050 - val_loss: 1.1494\n",
      "Epoch 76/100\n",
      "89/89 [==============================] - 0s 5ms/step - loss: 0.8135 - val_loss: 1.1819\n",
      "Epoch 77/100\n",
      "89/89 [==============================] - 0s 5ms/step - loss: 0.8074 - val_loss: 1.1919\n",
      "Epoch 78/100\n",
      "89/89 [==============================] - 0s 5ms/step - loss: 0.8011 - val_loss: 1.2440\n",
      "Epoch 79/100\n",
      "89/89 [==============================] - 0s 4ms/step - loss: 0.8070 - val_loss: 1.1972\n",
      "Epoch 80/100\n",
      "89/89 [==============================] - 0s 4ms/step - loss: 0.8071 - val_loss: 1.2442\n",
      "Epoch 81/100\n",
      "89/89 [==============================] - 0s 5ms/step - loss: 0.7989 - val_loss: 1.1868\n",
      "Epoch 82/100\n",
      "89/89 [==============================] - 0s 5ms/step - loss: 0.7985 - val_loss: 1.1754\n",
      "Epoch 83/100\n",
      "89/89 [==============================] - 0s 5ms/step - loss: 0.8046 - val_loss: 1.2144\n",
      "Epoch 84/100\n",
      "89/89 [==============================] - 0s 4ms/step - loss: 0.8044 - val_loss: 1.2015\n",
      "Epoch 85/100\n",
      "89/89 [==============================] - 0s 5ms/step - loss: 0.8017 - val_loss: 1.2204\n",
      "Epoch 86/100\n",
      "89/89 [==============================] - 0s 5ms/step - loss: 0.8002 - val_loss: 1.2236\n",
      "Epoch 87/100\n",
      "89/89 [==============================] - 0s 4ms/step - loss: 0.7943 - val_loss: 1.1845\n",
      "Epoch 88/100\n",
      "89/89 [==============================] - 0s 5ms/step - loss: 0.8012 - val_loss: 1.1638\n",
      "Epoch 89/100\n",
      "89/89 [==============================] - 0s 5ms/step - loss: 0.7986 - val_loss: 1.1924\n",
      "Epoch 90/100\n",
      "89/89 [==============================] - 0s 5ms/step - loss: 0.7982 - val_loss: 1.2327\n",
      "Epoch 91/100\n",
      "89/89 [==============================] - 0s 5ms/step - loss: 0.7985 - val_loss: 1.1864\n",
      "Epoch 92/100\n",
      "89/89 [==============================] - 0s 5ms/step - loss: 0.7915 - val_loss: 1.2050\n",
      "Epoch 93/100\n",
      "89/89 [==============================] - 0s 5ms/step - loss: 0.8002 - val_loss: 1.2723\n",
      "Epoch 94/100\n",
      "89/89 [==============================] - 0s 5ms/step - loss: 0.7977 - val_loss: 1.2017\n",
      "Epoch 95/100\n",
      "89/89 [==============================] - 0s 5ms/step - loss: 0.7923 - val_loss: 1.1651\n",
      "Epoch 96/100\n",
      "89/89 [==============================] - 0s 4ms/step - loss: 0.7944 - val_loss: 1.2153\n",
      "Epoch 97/100\n",
      "89/89 [==============================] - 0s 4ms/step - loss: 0.7887 - val_loss: 1.2191\n",
      "Epoch 98/100\n",
      "89/89 [==============================] - 0s 4ms/step - loss: 0.7892 - val_loss: 1.2740\n",
      "Epoch 99/100\n",
      "89/89 [==============================] - 0s 5ms/step - loss: 0.7940 - val_loss: 1.2448\n",
      "Epoch 100/100\n",
      "89/89 [==============================] - 0s 5ms/step - loss: 0.7930 - val_loss: 1.2271\n"
     ]
    }
   ],
   "source": [
    "hostory = model.fit(img_array,\n",
    "                    keypoints,\n",
    "                    validation_split=0.2, \n",
    "                    epochs=EPOCHS, \n",
    "                    batch_size=BATCH_SIZE,\n",
    "                    callbacks=[vat_acc_checkpoint])"
   ]
  },
  {
   "cell_type": "code",
   "execution_count": 79,
   "metadata": {},
   "outputs": [
    {
     "name": "stdout",
     "output_type": "stream",
     "text": [
      "45/45 [==============================] - 0s 2ms/step - loss: 0.8874\n"
     ]
    },
    {
     "data": {
      "text/plain": [
       "0.8874320983886719"
      ]
     },
     "execution_count": 79,
     "metadata": {},
     "output_type": "execute_result"
    }
   ],
   "source": [
    "model = load_model(\"best_model.h5\")\n",
    "model.evaluate(X_test, Y_test)"
   ]
  },
  {
   "cell_type": "code",
   "execution_count": 75,
   "metadata": {},
   "outputs": [
    {
     "name": "stdout",
     "output_type": "stream",
     "text": [
      "WARNING:tensorflow:Model was constructed with shape (None, 96, 96, 1) for input KerasTensor(type_spec=TensorSpec(shape=(None, 96, 96, 1), dtype=tf.float32, name='input_4'), name='input_4', description=\"created by layer 'input_4'\"), but it was called on an input with incompatible shape (32, 96, 1, 1).\n"
     ]
    },
    {
     "ename": "ValueError",
     "evalue": "in user code:\n\n    File \"/home/vkrotov/my_ml_projects/venv/lib/python3.8/site-packages/keras/engine/training.py\", line 1845, in predict_function  *\n        return step_function(self, iterator)\n    File \"/home/vkrotov/my_ml_projects/venv/lib/python3.8/site-packages/keras/engine/training.py\", line 1834, in step_function  **\n        outputs = model.distribute_strategy.run(run_step, args=(data,))\n    File \"/home/vkrotov/my_ml_projects/venv/lib/python3.8/site-packages/keras/engine/training.py\", line 1823, in run_step  **\n        outputs = model.predict_step(data)\n    File \"/home/vkrotov/my_ml_projects/venv/lib/python3.8/site-packages/keras/engine/training.py\", line 1791, in predict_step\n        return self(x, training=False)\n    File \"/home/vkrotov/my_ml_projects/venv/lib/python3.8/site-packages/keras/utils/traceback_utils.py\", line 67, in error_handler\n        raise e.with_traceback(filtered_tb) from None\n\n    ValueError: Exception encountered when calling layer \"conv2d_9\" (type Conv2D).\n    \n    Negative dimension size caused by subtracting 3 from 1 for '{{node model_3/conv2d_9/Conv2D}} = Conv2D[T=DT_FLOAT, data_format=\"NHWC\", dilations=[1, 1, 1, 1], explicit_paddings=[], padding=\"VALID\", strides=[1, 1, 1, 1], use_cudnn_on_gpu=true](model_3/ExpandDims, model_3/conv2d_9/Conv2D/ReadVariableOp)' with input shapes: [32,96,1,1], [3,3,1,32].\n    \n    Call arguments received by layer \"conv2d_9\" (type Conv2D):\n      • inputs=tf.Tensor(shape=(32, 96, 1, 1), dtype=float32)\n",
     "output_type": "error",
     "traceback": [
      "\u001b[0;31m---------------------------------------------------------------------------\u001b[0m",
      "\u001b[0;31mValueError\u001b[0m                                Traceback (most recent call last)",
      "\u001b[1;32m/home/vkrotov/my_ml_projects/faces_keypoints/src/train/train_conv_regression.ipynb Ячейка 12\u001b[0m in \u001b[0;36m<cell line: 1>\u001b[0;34m()\u001b[0m\n\u001b[0;32m----> <a href='vscode-notebook-cell://ssh-remote%2B37.194.175.108/home/vkrotov/my_ml_projects/faces_keypoints/src/train/train_conv_regression.ipynb#X32sdnNjb2RlLXJlbW90ZQ%3D%3D?line=0'>1</a>\u001b[0m pred \u001b[39m=\u001b[39m model\u001b[39m.\u001b[39;49mpredict([X_test[\u001b[39m0\u001b[39;49m]])\n",
      "File \u001b[0;32m~/my_ml_projects/venv/lib/python3.8/site-packages/keras/utils/traceback_utils.py:67\u001b[0m, in \u001b[0;36mfilter_traceback.<locals>.error_handler\u001b[0;34m(*args, **kwargs)\u001b[0m\n\u001b[1;32m     65\u001b[0m \u001b[39mexcept\u001b[39;00m \u001b[39mException\u001b[39;00m \u001b[39mas\u001b[39;00m e:  \u001b[39m# pylint: disable=broad-except\u001b[39;00m\n\u001b[1;32m     66\u001b[0m   filtered_tb \u001b[39m=\u001b[39m _process_traceback_frames(e\u001b[39m.\u001b[39m__traceback__)\n\u001b[0;32m---> 67\u001b[0m   \u001b[39mraise\u001b[39;00m e\u001b[39m.\u001b[39mwith_traceback(filtered_tb) \u001b[39mfrom\u001b[39;00m \u001b[39mNone\u001b[39m\n\u001b[1;32m     68\u001b[0m \u001b[39mfinally\u001b[39;00m:\n\u001b[1;32m     69\u001b[0m   \u001b[39mdel\u001b[39;00m filtered_tb\n",
      "File \u001b[0;32m/tmp/__autograph_generated_filej3zy85sg.py:15\u001b[0m, in \u001b[0;36mouter_factory.<locals>.inner_factory.<locals>.tf__predict_function\u001b[0;34m(iterator)\u001b[0m\n\u001b[1;32m     13\u001b[0m \u001b[39mtry\u001b[39;00m:\n\u001b[1;32m     14\u001b[0m     do_return \u001b[39m=\u001b[39m \u001b[39mTrue\u001b[39;00m\n\u001b[0;32m---> 15\u001b[0m     retval_ \u001b[39m=\u001b[39m ag__\u001b[39m.\u001b[39mconverted_call(ag__\u001b[39m.\u001b[39mld(step_function), (ag__\u001b[39m.\u001b[39mld(\u001b[39mself\u001b[39m), ag__\u001b[39m.\u001b[39mld(iterator)), \u001b[39mNone\u001b[39;00m, fscope)\n\u001b[1;32m     16\u001b[0m \u001b[39mexcept\u001b[39;00m:\n\u001b[1;32m     17\u001b[0m     do_return \u001b[39m=\u001b[39m \u001b[39mFalse\u001b[39;00m\n",
      "\u001b[0;31mValueError\u001b[0m: in user code:\n\n    File \"/home/vkrotov/my_ml_projects/venv/lib/python3.8/site-packages/keras/engine/training.py\", line 1845, in predict_function  *\n        return step_function(self, iterator)\n    File \"/home/vkrotov/my_ml_projects/venv/lib/python3.8/site-packages/keras/engine/training.py\", line 1834, in step_function  **\n        outputs = model.distribute_strategy.run(run_step, args=(data,))\n    File \"/home/vkrotov/my_ml_projects/venv/lib/python3.8/site-packages/keras/engine/training.py\", line 1823, in run_step  **\n        outputs = model.predict_step(data)\n    File \"/home/vkrotov/my_ml_projects/venv/lib/python3.8/site-packages/keras/engine/training.py\", line 1791, in predict_step\n        return self(x, training=False)\n    File \"/home/vkrotov/my_ml_projects/venv/lib/python3.8/site-packages/keras/utils/traceback_utils.py\", line 67, in error_handler\n        raise e.with_traceback(filtered_tb) from None\n\n    ValueError: Exception encountered when calling layer \"conv2d_9\" (type Conv2D).\n    \n    Negative dimension size caused by subtracting 3 from 1 for '{{node model_3/conv2d_9/Conv2D}} = Conv2D[T=DT_FLOAT, data_format=\"NHWC\", dilations=[1, 1, 1, 1], explicit_paddings=[], padding=\"VALID\", strides=[1, 1, 1, 1], use_cudnn_on_gpu=true](model_3/ExpandDims, model_3/conv2d_9/Conv2D/ReadVariableOp)' with input shapes: [32,96,1,1], [3,3,1,32].\n    \n    Call arguments received by layer \"conv2d_9\" (type Conv2D):\n      • inputs=tf.Tensor(shape=(32, 96, 1, 1), dtype=float32)\n"
     ]
    }
   ],
   "source": [
    "pred = model.predict([X_test[0]])"
   ]
  },
  {
   "cell_type": "code",
   "execution_count": null,
   "metadata": {},
   "outputs": [],
   "source": []
  }
 ],
 "metadata": {
  "kernelspec": {
   "display_name": "Python 3.8.10 ('venv': venv)",
   "language": "python",
   "name": "python3"
  },
  "language_info": {
   "codemirror_mode": {
    "name": "ipython",
    "version": 3
   },
   "file_extension": ".py",
   "mimetype": "text/x-python",
   "name": "python",
   "nbconvert_exporter": "python",
   "pygments_lexer": "ipython3",
   "version": "3.8.10"
  },
  "orig_nbformat": 4,
  "vscode": {
   "interpreter": {
    "hash": "6dbe6877d5ec30e6af1e1055811c2ac5b743fb92f98193534da0acfda60dc502"
   }
  }
 },
 "nbformat": 4,
 "nbformat_minor": 2
}
