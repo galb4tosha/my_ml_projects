{
 "cells": [
  {
   "cell_type": "code",
   "execution_count": 2,
   "metadata": {},
   "outputs": [],
   "source": [
    "import cv2 \n",
    "import numpy as np\n",
    "import os\n"
   ]
  },
  {
   "cell_type": "code",
   "execution_count": 3,
   "metadata": {},
   "outputs": [],
   "source": [
    "row_data_path = \"../../data/raw/crop_data_labeled\""
   ]
  },
  {
   "cell_type": "code",
   "execution_count": 12,
   "metadata": {},
   "outputs": [
    {
     "name": "stdout",
     "output_type": "stream",
     "text": [
      "button_on\n",
      "display_off\n",
      "34 21\n"
     ]
    }
   ],
   "source": [
    "def get_min_img_size(row_data_path):\n",
    "    min_height = 999999\n",
    "    min_width = 999999\n",
    "    for dir in os.listdir(row_data_path)[2:4]:\n",
    "        print(dir)\n",
    "        if dir != \".DS_Store\":\n",
    "            for file_path in os.listdir(os.path.join(row_data_path, dir)):\n",
    "                if file_path != \".DS_Store\":\n",
    "                    img_path = os.path.join(row_data_path, dir, file_path)\n",
    "                    try:\n",
    "                        img = cv2.imread(img_path)\n",
    "                        height, width, _ = img.shape\n",
    "                        if height < min_height:\n",
    "                            min_height = height\n",
    "                        if width < min_width:\n",
    "                            min_width = width\n",
    "                    except:\n",
    "                        print(f\"cannot open file {img_path}\")\n",
    "                        continue\n",
    "    print(min_width, min_height)\n",
    "get_min_img_size(row_data_path)"
   ]
  },
  {
   "cell_type": "code",
   "execution_count": 13,
   "metadata": {},
   "outputs": [
    {
     "name": "stdout",
     "output_type": "stream",
     "text": [
      "../../data/raw/crop_data_labeled/button_on/video_3_1133_22.png\n"
     ]
    },
    {
     "ename": "UFuncTypeError",
     "evalue": "Cannot cast ufunc 'divide' output from dtype('float64') to dtype('uint8') with casting rule 'same_kind'",
     "output_type": "error",
     "traceback": [
      "\u001b[0;31m---------------------------------------------------------------------------\u001b[0m",
      "\u001b[0;31mUFuncTypeError\u001b[0m                            Traceback (most recent call last)",
      "\u001b[1;32m/home/vkrotov/my_ml_projects/buttons/scripts/preprocess/preproc.ipynb Ячейка 4\u001b[0m in \u001b[0;36m<cell line: 11>\u001b[0;34m()\u001b[0m\n\u001b[1;32m     <a href='vscode-notebook-cell://ssh-remote%2B37.194.175.108/home/vkrotov/my_ml_projects/buttons/scripts/preprocess/preproc.ipynb#W3sdnNjb2RlLXJlbW90ZQ%3D%3D?line=17'>18</a>\u001b[0m img\u001b[39m.\u001b[39mresize(\u001b[39m21\u001b[39m, \u001b[39m21\u001b[39m)\n\u001b[1;32m     <a href='vscode-notebook-cell://ssh-remote%2B37.194.175.108/home/vkrotov/my_ml_projects/buttons/scripts/preprocess/preproc.ipynb#W3sdnNjb2RlLXJlbW90ZQ%3D%3D?line=18'>19</a>\u001b[0m cv2\u001b[39m.\u001b[39mimwrite(\u001b[39m\"\u001b[39m\u001b[39mtest_resize.png\u001b[39m\u001b[39m\"\u001b[39m, img)\n\u001b[0;32m---> <a href='vscode-notebook-cell://ssh-remote%2B37.194.175.108/home/vkrotov/my_ml_projects/buttons/scripts/preprocess/preproc.ipynb#W3sdnNjb2RlLXJlbW90ZQ%3D%3D?line=19'>20</a>\u001b[0m img \u001b[39m/\u001b[39m\u001b[39m=\u001b[39m \u001b[39m255.0\u001b[39m\n\u001b[1;32m     <a href='vscode-notebook-cell://ssh-remote%2B37.194.175.108/home/vkrotov/my_ml_projects/buttons/scripts/preprocess/preproc.ipynb#W3sdnNjb2RlLXJlbW90ZQ%3D%3D?line=20'>21</a>\u001b[0m x_data\u001b[39m.\u001b[39mappend(img)\n\u001b[1;32m     <a href='vscode-notebook-cell://ssh-remote%2B37.194.175.108/home/vkrotov/my_ml_projects/buttons/scripts/preprocess/preproc.ipynb#W3sdnNjb2RlLXJlbW90ZQ%3D%3D?line=21'>22</a>\u001b[0m y_data\u001b[39m.\u001b[39mappend(y_dict[\u001b[39m\"\u001b[39m\u001b[39mdir\u001b[39m\u001b[39m\"\u001b[39m])\n",
      "\u001b[0;31mUFuncTypeError\u001b[0m: Cannot cast ufunc 'divide' output from dtype('float64') to dtype('uint8') with casting rule 'same_kind'"
     ]
    }
   ],
   "source": [
    "y_dict = {\n",
    "    \"button_off\": 0,\n",
    "    \"button_on\": 1,\n",
    "    \"display_off\": 2,\n",
    "    \"display_on\": 3,\n",
    "    \"switcher_off\": 4,\n",
    "    \"switcher_on\": 5,\n",
    "}\n",
    "x_data = list()\n",
    "y_data = list()\n",
    "for dir in os.listdir(row_data_path)[2:4]:\n",
    "    if dir != \".DS_Store\":\n",
    "        for file_path in os.listdir(os.path.join(row_data_path, dir))[:1]:\n",
    "            if file_path != \".DS_Store\":\n",
    "                img_path = os.path.join(row_data_path, dir, file_path)\n",
    "                img = cv2.imread(img_path)\n",
    "                print(img_path)\n",
    "                img.resize(21, 21)\n",
    "                cv2.imwrite(\"test_resize.png\", img)\n",
    "                img /= 255.0\n",
    "                x_data.append(img)\n",
    "                y_data.append(y_dict[\"dir\"])\n",
    "# np.save(\"../processed_data/x_data\", x_data)\n",
    "# np.save(\"../processed_data/y_data\", y_data)"
   ]
  },
  {
   "cell_type": "code",
   "execution_count": 24,
   "metadata": {},
   "outputs": [
    {
     "data": {
      "text/plain": [
       "<function posix.pwrite(fd, buffer, offset, /)>"
      ]
     },
     "execution_count": 24,
     "metadata": {},
     "output_type": "execute_result"
    }
   ],
   "source": []
  },
  {
   "cell_type": "code",
   "execution_count": null,
   "metadata": {},
   "outputs": [],
   "source": []
  }
 ],
 "metadata": {
  "kernelspec": {
   "display_name": "Python 3.8.10 ('venv': venv)",
   "language": "python",
   "name": "python3"
  },
  "language_info": {
   "codemirror_mode": {
    "name": "ipython",
    "version": 3
   },
   "file_extension": ".py",
   "mimetype": "text/x-python",
   "name": "python",
   "nbconvert_exporter": "python",
   "pygments_lexer": "ipython3",
   "version": "3.8.10"
  },
  "orig_nbformat": 4,
  "vscode": {
   "interpreter": {
    "hash": "6dbe6877d5ec30e6af1e1055811c2ac5b743fb92f98193534da0acfda60dc502"
   }
  }
 },
 "nbformat": 4,
 "nbformat_minor": 2
}
